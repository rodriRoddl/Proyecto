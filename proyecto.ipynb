{
 "cells": [
  {
   "cell_type": "code",
   "execution_count": null,
   "metadata": {},
   "outputs": [],
   "source": []
  },
  {
   "cell_type": "markdown",
   "metadata": {},
   "source": [
    "### Distribución para demanda de paquetes \n",
    "\n",
    "Tenemos que en cierto tiempo aleatorio discreto llegan peticiones o demandas de ancho de banda por parte de las ONU, estas se calculan en base a una cantidad de personas aleatorias"
   ]
  }
 ],
 "metadata": {
  "language_info": {
   "name": "python"
  }
 },
 "nbformat": 4,
 "nbformat_minor": 2
}
