{
 "cells": [
  {
   "cell_type": "markdown",
   "metadata": {},
   "source": [
    "### Importación de bibliotecas"
   ]
  },
  {
   "cell_type": "code",
   "execution_count": 1,
   "metadata": {},
   "outputs": [],
   "source": [
    "import numpy as np\n",
    "import matplotlib.pyplot as plt\n",
    "import random as rd\n",
    "from operator import itemgetter"
   ]
  },
  {
   "cell_type": "markdown",
   "metadata": {},
   "source": [
    "### Inicialización del sistema"
   ]
  },
  {
   "cell_type": "code",
   "execution_count": 2,
   "metadata": {},
   "outputs": [],
   "source": [
    "lamb = 1/300\n",
    "num_onu = 15\n",
    "users_onu=10               # Cantidad de ONUs\n",
    "ancho_banda_total = 2488.0  # Según ancho de banda por cable GPON 2.488 Gb/s de downstream\n",
    "lat_min = 20.0              # Latencia mínima\n",
    "lat_max = 100.0             # Latencia máxima\n",
    "utility = np.zeros(num_onu, dtype=int)\n",
    "tasa_exito = np.zeros(num_onu, dtype=int)\n",
    "package = 15000 #largo de un paquete de datos en bits\n",
    "distancias = np.random.randint(5, 40, size=num_onu)\n",
    "canal = 50"
   ]
  },
  {
   "cell_type": "markdown",
   "metadata": {},
   "source": [
    "### Inicialización del sistema - Valores de media de demandas de ONU y su varianza"
   ]
  },
  {
   "cell_type": "code",
   "execution_count": 3,
   "metadata": {},
   "outputs": [],
   "source": [
    "mu = np.log(200**2 / np.sqrt(20**2 + 200**2))\n",
    "sigma = np.sqrt(np.log(1 + (20**2 / 200**2)))"
   ]
  },
  {
   "cell_type": "markdown",
   "metadata": {},
   "source": [
    "### Algoritmo DBA"
   ]
  },
  {
   "cell_type": "code",
   "execution_count": 4,
   "metadata": {},
   "outputs": [],
   "source": [
    "def dba():\n",
    "    demandas_onu = np.random.lognormal(mu, sigma, num_onu)\n",
    "    posicion_max = np.argmax(demandas_onu)  # Para saber cuál ONU es la que tiene mayor demanda\n",
    "    demanda_total = np.sum(demandas_onu)\n",
    "    if demanda_total > ancho_banda_total: \n",
    "        variacion = np.random.uniform(0.7, 1.3, num_onu)  # Variable para variar las asignaciones\n",
    "        asignaciones = (demandas_onu / demanda_total) * ancho_banda_total * variacion\n",
    "        asignaciones = (asignaciones / np.sum(asignaciones)) * ancho_banda_total\n",
    "    else:\n",
    "        asignaciones = demandas_onu\n",
    "    asignaciones = np.minimum(asignaciones, demandas_onu)\n",
    "\n",
    "    # Manejo de latencias del sistema\n",
    "    latencias = (demandas_onu / asignaciones) * lat_min + 1 + np.random.uniform(0.1, 1.0, num_onu) # calculo de latencias por procesamiento, cola, uso de algortimo, y adicion de retransmision\n",
    "    latencias = latencias + distancias/200000 # considera latencia por distancia\n",
    "\n",
    "    # Manejo de utilidad de cada ONU dependiendo de la mayor demanda\n",
    "    utility[posicion_max] += 1  # Sumar 1 al índice de mayor demanda\n",
    "\n",
    "    # Manejo de la pérdida de paquetes\n",
    "    paquetes_transmitidos = asignaciones / package\n",
    "    paquetes_demandados = demandas_onu / package\n",
    "    perdidas_paquetes = ((paquetes_demandados - paquetes_transmitidos) / paquetes_demandados) *100\n",
    "    return latencias, perdidas_paquetes"
   ]
  },
  {
   "cell_type": "markdown",
   "metadata": {},
   "source": [
    "### Calendarización y evento de downstream para llamada de algortimo DBA"
   ]
  },
  {
   "cell_type": "code",
   "execution_count": 5,
   "metadata": {},
   "outputs": [],
   "source": [
    "def schedule_a(val, t_a):\n",
    "    # Se agrega el nuevo elemento de calendarización\n",
    "    t_a.append(val)\n",
    "    t_a.sort()\n",
    "\n",
    "def InputEvent(t_a):\n",
    "    a = np.random.exponential(lamb)\n",
    "    schedule_a(t_a[0] + a, t_a)\n",
    "    latencias, perdidas_paquetes = dba()\n",
    "    i = 0\n",
    "    for lat in latencias:\n",
    "        if lat <= lat_max:\n",
    "            tasa_exito[i] += 1\n",
    "        i +=1\n",
    "    t_a.pop(0)\n",
    "    return latencias, perdidas_paquetes"
   ]
  },
  {
   "cell_type": "markdown",
   "metadata": {},
   "source": [
    "### Calendarización y evento de upstream para probabilidad de bloqueo"
   ]
  },
  {
   "cell_type": "code",
   "execution_count": 6,
   "metadata": {},
   "outputs": [],
   "source": [
    "def get_id(range):\n",
    "    id = rd.choice(list(range))\n",
    "    return id\n",
    "def fel_users_init(rango,tasa):\n",
    "    Lista = []\n",
    "    for i in rango:\n",
    "        Lista.append((i, 0, np.random.exponential(tasa))) ##INICIALIZAR FEL\n",
    "    Lista.sort(key=itemgetter(2))\n",
    "    return Lista\n",
    "def next_event(FEL):\n",
    "    if FEL:\n",
    "        return FEL[0]\n",
    "    else:\n",
    "        return None\n",
    "def schedule_User(FEL, time, id, type):    ### CALENDERIZAR\n",
    "    FEL.append((id, type, time))\n",
    "    FEL.sort(key=itemgetter(2))\n",
    "    return FEL"
   ]
  },
  {
   "cell_type": "markdown",
   "metadata": {},
   "source": [
    "### Métricas que muestran latencias y probabilidad de pérdidas de paquetes"
   ]
  },
  {
   "cell_type": "code",
   "execution_count": 11,
   "metadata": {},
   "outputs": [],
   "source": [
    "def metricas(promedios_latencias,promedios_perdida,probabilidad_bloqueo):\n",
    "    for onu in range(num_onu):\n",
    "        plt.plot(promedios_latencias[:, onu], label=f'ONU {onu + 1}')\n",
    "    plt.xlabel('Legadas (10^6)')\n",
    "    plt.ylabel('Latencia Promedio (ms)')\n",
    "    plt.title('Latencia Promedio de cada ONU por Llegadas/10')\n",
    "    plt.legend(loc='right')\n",
    "    plt.show()\n",
    "    for onu in range(num_onu):\n",
    "        plt.plot(promedios_perdida[:, onu], label=f'ONU {onu + 1}')\n",
    "    plt.xlabel('Llegadas (10^6)')\n",
    "    plt.ylabel('Pérdida Promedio de Paquetes (%)')\n",
    "    plt.title('Pérdida Promedio de Paquetes de cada ONU por Llegadas/10')\n",
    "    plt.legend(loc='right')\n",
    "    plt.show()\n",
    "\n",
    "    plt.plot(probabilidad_bloqueo, label='Probabilidad de Bloqueo')\n",
    "    plt.xlabel('Llegadas (10^6)')\n",
    "    plt.ylabel('Probabilidad de Bloqueo (%)')\n",
    "    plt.title('Probabilidad de Bloqueo por Llegadas/10^6')\n",
    "    plt.legend(loc='right')\n",
    "    plt.show()"
   ]
  },
  {
   "cell_type": "markdown",
   "metadata": {},
   "source": [
    "### Estructura de simulador completo"
   ]
  },
  {
   "cell_type": "code",
   "execution_count": 15,
   "metadata": {},
   "outputs": [],
   "source": [
    "def simulacion():\n",
    "    llegadas = 0\n",
    "    t_a = []\n",
    "    u=0\n",
    "    b=0\n",
    "    t_a.append(np.random.exponential(lamb))\n",
    "    latencias_totales = np.zeros(num_onu)\n",
    "    perdidas_totales = np.zeros(num_onu)\n",
    "    promedios_latencias = []\n",
    "    promedios_perdida = []\n",
    "    probabilidades_bloqueo = []\n",
    "    usuarios_por_onu = np.random.randint(1, 15, size=num_onu)\n",
    "    users_total = sum(usuarios_por_onu)\n",
    "    canal = users_total-15\n",
    "    rango = range(0,15)\n",
    "    lista_users=fel_users_init(rango,lamb)\n",
    "    \n",
    "    while llegadas < 10**7:\n",
    "        latencias,perdida = InputEvent(t_a)\n",
    "        latencias_totales += latencias\n",
    "        perdidas_totales += perdida\n",
    "        evento = next_event(lista_users)\n",
    "        if evento:\n",
    "            id, event_type, current_time = evento\n",
    "            lista_users.pop(0)\n",
    "            if event_type == 0:\n",
    "                if u < canal:\n",
    "                    u += 1\n",
    "                    service_time = np.random.exponential(mu) + current_time \n",
    "                    lista_users = schedule_User(lista_users,service_time,id,1)\n",
    "                    next_id=get_id(rango)\n",
    "                    access_time = np.random.exponential(lamb) + current_time\n",
    "                    lista_users = schedule_User(lista_users,access_time,next_id,0)\n",
    "                    llegadas += 1\n",
    "                    \n",
    "                else: \n",
    "                    next_id=get_id(rango)\n",
    "                    access_time = np.random.exponential(mu) + current_time\n",
    "                    lista_users = schedule_User(lista_users,access_time,next_id,0)\n",
    "                    b += 1\n",
    "                    llegadas += 1\n",
    "            if event_type == 1:\n",
    "                u -= 1\n",
    "                llegadas += 1\n",
    "        else:\n",
    "            break  \n",
    "        if llegadas % 10**6 == 0:\n",
    "            promedio_latencia = latencias_totales / 10**6\n",
    "            promedios_latencias.append(promedio_latencia.copy())\n",
    "            latencias_totales = np.zeros(num_onu)\n",
    "            promedio_perdida = perdidas_totales / 10**6\n",
    "            promedios_perdida.append(promedio_perdida.copy())\n",
    "            perdidas_totales = np.zeros(num_onu)\n",
    "            block_probability = (b / llegadas) * 100\n",
    "            probabilidades_bloqueo.append(block_probability)\n",
    "        \n",
    "       \n",
    "    promedios_latencias = np.array(promedios_latencias)\n",
    "    promedio_perdida = np.array(promedios_perdida)\n",
    "    print(\"La ONU con mayor demanda es: \",np.argmax(utility)+1)\n",
    "    print(\"La ONU con menor demanda es: \",np.argmin(utility)+1)\n",
    "    print(\"Se muestra la lista por máximo de demanda por iteración de cada ONU: \",utility)\n",
    "    print(\"Se muestra la lista con las tasas de exito en cuanto a latencia de cada ONU en porcentaje: \",tasa_exito/10**4)\n",
    "    metricas(promedios_latencias,promedio_perdida,probabilidades_bloqueo)"
   ]
  },
  {
   "cell_type": "code",
   "execution_count": 16,
   "metadata": {},
   "outputs": [],
   "source": [
    "simulacion()"
   ]
  }
 ],
 "metadata": {
  "kernelspec": {
   "display_name": "Python 3",
   "language": "python",
   "name": "python3"
  },
  "language_info": {
   "codemirror_mode": {
    "name": "ipython",
    "version": 3
   },
   "file_extension": ".py",
   "mimetype": "text/x-python",
   "name": "python",
   "nbconvert_exporter": "python",
   "pygments_lexer": "ipython3",
   "version": "3.11.9"
  }
 },
 "nbformat": 4,
 "nbformat_minor": 2
}
