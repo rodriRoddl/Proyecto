{
 "cells": [
  {
   "cell_type": "markdown",
   "metadata": {},
   "source": [
    "### Importación de librerías a utilizar"
   ]
  },
  {
   "cell_type": "code",
   "execution_count": 7,
   "metadata": {},
   "outputs": [],
   "source": [
    "import numpy as np\n",
    "import matplotlib.pyplot as plt"
   ]
  },
  {
   "cell_type": "markdown",
   "metadata": {},
   "source": [
    "### Función de polling table: Tabla de sondeo para ONUs"
   ]
  },
  {
   "cell_type": "code",
   "execution_count": 8,
   "metadata": {},
   "outputs": [],
   "source": [
    "def create_polling_table(onu_no, onu_olt_dist, grant_size,link_speed):\n",
    "    c = 2*1e5\n",
    "    # Inicialización de tabla con sondeos\n",
    "    polling_table = np.zeros((onu_no,4))\n",
    "    \n",
    "    #indice de ONU\n",
    "    polling_table[:, 0] = np.arange(1, onu_no + 1)\n",
    "\n",
    "    # Round Time Trip (RTT)\n",
    "    polling_table[:, 1] = 2 * onu_olt_dist / c\n",
    "\n",
    "    # Tiempo de Transmisión\n",
    "    polling_table[:, 2] = grant_size * 8 / link_speed\n",
    "\n",
    "    # Columna 4: Tiempo total (RTT + tiempo de transmisión).\n",
    "    polling_table[:, 3] = polling_table[:, 1] + polling_table[:, 2]\n",
    "\n",
    "    return polling_table"
   ]
  },
  {
   "cell_type": "markdown",
   "metadata": {},
   "source": [
    "### Función pkt_arr_times: Tiempos de llegada de paquetes"
   ]
  },
  {
   "cell_type": "code",
   "execution_count": 9,
   "metadata": {},
   "outputs": [],
   "source": [
    "def pkt_arr_times(type, par1, par2=None, max_pkts=None):\n",
    "    if type == 'deterministic':\n",
    "        avg_arr_time = par1\n",
    "        pkt_arr_time = avg_arr_time * np.ones(max_pkts)\n",
    "\n",
    "    elif type == 'exponential':\n",
    "        avg_arr_time = par1\n",
    "        pkt_arr_time = np.random.exponential(avg_arr_time, max_pkts)\n",
    "\n",
    "    elif type == 'uniform':\n",
    "        min_arr_time = par1\n",
    "        max_arr_time = par2\n",
    "        pkt_arr_time = min_arr_time + (max_arr_time - min_arr_time) * np.random.rand(max_pkts)\n",
    "\n",
    "    elif type == 'GP':  # Generalized Pareto distribution\n",
    "        k = par1\n",
    "        sigma = par2\n",
    "        theta = 0  # minimum value for time is 0\n",
    "        pkt_arr_time = np.random.default_rng().pareto(k, max_pkts) * sigma + theta\n",
    "\n",
    "    elif type == 'gamma':\n",
    "        a = par1\n",
    "        b = par2\n",
    "        pkt_arr_time = np.random.gamma(a, b, max_pkts)\n",
    "\n",
    "    elif type == 'Gaussian':\n",
    "        mean = par1\n",
    "        variance = par2\n",
    "        pkt_arr_time = mean + variance * np.abs(np.random.randn(max_pkts))\n",
    "\n",
    "    else:\n",
    "        raise ValueError(\"Unsupported distribution type\")\n",
    "\n",
    "    return pkt_arr_time\n"
   ]
  },
  {
   "cell_type": "markdown",
   "metadata": {},
   "source": [
    "### Función plot_results: Gráfica de resultados según ciclo de trabajo "
   ]
  },
  {
   "cell_type": "code",
   "execution_count": null,
   "metadata": {},
   "outputs": [],
   "source": [
    "def plot_results(Lambda, polling_cycles, avg_pkt_delay_all, avg_pkt_trx_delay_all):\n",
    "    # ============================ figure 1 ============================\n",
    "    plt.figure()\n",
    "    plt.plot(Lambda, polling_cycles, '-o', linewidth=2)\n",
    "    plt.grid(True)\n",
    "    plt.box(True)\n",
    "    plt.xlim([0, 1])\n",
    "    plt.ylim([0, np.inf])\n",
    "    plt.xlabel('Effective network load $(\\\\rho)$', fontweight='bold', fontsize=12)\n",
    "    plt.ylabel('Number of polling cycles', fontweight='bold', fontsize=12)\n",
    "    plt.legend(['Limited service'], loc='northeast', fontsize=10)\n",
    "    plt.title('Polling Cycles vs Effective Load')\n",
    "    plt.show()\n",
    "\n",
    "    # ============================ figure 2 ============================\n",
    "    plt.figure()\n",
    "    plt.semilogy(Lambda, avg_pkt_delay_all, '-o', linewidth=2)\n",
    "    plt.grid(True)\n",
    "    plt.box(True)\n",
    "    plt.xlim([0, 1])\n",
    "    plt.ylim([1e-4, 1e-1])\n",
    "    plt.xlabel('Effective network load $(\\\\rho)$', fontweight='bold', fontsize=12)\n",
    "    plt.ylabel('Average packet latency at ONU (sec)', fontweight='bold', fontsize=12)\n",
    "    plt.legend(['Limited service'], loc='northeast', fontsize=10)\n",
    "    plt.title('Average Packet Latency vs Effective Load')\n",
    "    plt.show()\n",
    "\n",
    "    # ============================ figure 3 ============================\n",
    "    plt.figure()\n",
    "    plt.semilogy(Lambda, avg_pkt_trx_delay_all, '-o', linewidth=2)\n",
    "    plt.grid(True)\n",
    "    plt.box(True)\n",
    "    plt.xlim([0, 1])\n",
    "    plt.ylim([1e-4, 1e-1])\n",
    "    plt.xlabel('Effective network load $(\\\\rho)$', fontweight='bold', fontsize=12)\n",
    "    plt.ylabel('Average end-to-end packet latency (sec)', fontweight='bold', fontsize=12)\n",
    "    plt.legend(['Limited service'], loc='northeast', fontsize=10)\n",
    "    plt.title('End-to-End Packet Latency vs Effective Load')\n",
    "    plt.show()"
   ]
  }
 ],
 "metadata": {
  "kernelspec": {
   "display_name": "Python 3",
   "language": "python",
   "name": "python3"
  },
  "language_info": {
   "codemirror_mode": {
    "name": "ipython",
    "version": 3
   },
   "file_extension": ".py",
   "mimetype": "text/x-python",
   "name": "python",
   "nbconvert_exporter": "python",
   "pygments_lexer": "ipython3",
   "version": "3.11.9"
  }
 },
 "nbformat": 4,
 "nbformat_minor": 2
}
