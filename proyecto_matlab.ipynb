{
 "cells": [
  {
   "cell_type": "markdown",
   "metadata": {},
   "source": [
    "### Importación de librerías a utilizar"
   ]
  },
  {
   "cell_type": "code",
   "execution_count": 1,
   "metadata": {},
   "outputs": [],
   "source": [
    "import numpy as np"
   ]
  },
  {
   "cell_type": "markdown",
   "metadata": {},
   "source": [
    "### Función de polling table - Tabla de sondeo para ONUs"
   ]
  },
  {
   "cell_type": "code",
   "execution_count": 4,
   "metadata": {},
   "outputs": [],
   "source": [
    "def create_polling_table(onu_no, onu_olt_dist, grant_size,link_speed):\n",
    "    c = 2*1e5\n",
    "    # Inicialización de tabla con sondeos\n",
    "    polling_table = np.zeros((onu_no,4))\n",
    "    \n",
    "    #indice de ONU\n",
    "    polling_table[:, 0] = np.arange(1, onu_no + 1)\n",
    "\n",
    "    # Round Time Trip (RTT)\n",
    "    polling_table[:, 1] = 2 * onu_olt_dist / c\n",
    "\n",
    "    # Tiempo de Transmisión\n",
    "    polling_table[:, 2] = grant_size * 8 / link_speed\n",
    "\n",
    "    # Columna 4: Tiempo total (RTT + tiempo de transmisión).\n",
    "    polling_table[:, 3] = polling_table[:, 1] + polling_table[:, 2]\n",
    "\n",
    "    return polling_table"
   ]
  }
 ],
 "metadata": {
  "kernelspec": {
   "display_name": "Python 3",
   "language": "python",
   "name": "python3"
  },
  "language_info": {
   "codemirror_mode": {
    "name": "ipython",
    "version": 3
   },
   "file_extension": ".py",
   "mimetype": "text/x-python",
   "name": "python",
   "nbconvert_exporter": "python",
   "pygments_lexer": "ipython3",
   "version": "3.11.9"
  }
 },
 "nbformat": 4,
 "nbformat_minor": 2
}
